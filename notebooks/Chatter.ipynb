{
 "cells": [
  {
   "cell_type": "code",
   "execution_count": 1,
   "metadata": {},
   "outputs": [],
   "source": [
    "from typing import Self, Optional\n",
    "from collections import deque\n",
    "import uuid\n",
    "\n",
    "from qdrant_client import QdrantClient\n",
    "from qdrant_client.models import (\n",
    "    VectorParams, \n",
    "    Distance, \n",
    "    PointStruct,\n",
    "    Batch\n",
    ")\n",
    "\n",
    "import openai\n",
    "\n",
    "import prelude\n",
    "from mychat.schema import (\n",
    "    ChatMessage,\n",
    "    ChatRole,\n",
    "    SystemMessage,\n",
    "    UserMessage,\n",
    "    AssistantMessage\n",
    ")\n",
    "from mychat.utils import call_openai_chat"
   ]
  },
  {
   "cell_type": "code",
   "execution_count": 2,
   "metadata": {},
   "outputs": [
    {
     "data": {
      "text/plain": [
       "[system] Your name is Natia. You are a professional user growth manager in the field of GameFi. My name is Isaac. Now, your job is to answer my questions and fulfill my request through chatting."
      ]
     },
     "execution_count": 2,
     "metadata": {},
     "output_type": "execute_result"
    }
   ],
   "source": [
    "USER_NAME = \"Isaac\"\n",
    "ASSISTANT_NAME = \"Natia\"\n",
    "\n",
    "PROFILE = SystemMessage(\n",
    "    (\n",
    "        \"Your name is {assistant_name}. \"\n",
    "        \"You are a professional user growth manager in the field of GameFi. \"\n",
    "        \"My name is {user_name}. \"\n",
    "        \"Now, your job is to answer my questions and \"\n",
    "        \"fulfill my request \"\n",
    "        \"through chatting.\"\n",
    "    ).format(\n",
    "        user_name=USER_NAME,\n",
    "        assistant_name=ASSISTANT_NAME\n",
    "    )\n",
    ")\n",
    "\n",
    "PROFILE"
   ]
  },
  {
   "cell_type": "code",
   "execution_count": 3,
   "metadata": {},
   "outputs": [
    {
     "name": "stdout",
     "output_type": "stream",
     "text": [
      "Your name is Natia. You are a professional user growth manager in the field of GameFi. My name is Isaac. Now, your job is to answer my questions and fulfill my request through chatting.\n",
      "\n",
      "[Isaac] Hello?\n",
      "\n",
      "[Natia] How may I help you?\n"
     ]
    }
   ],
   "source": [
    "def print_message(\n",
    "        message: ChatMessage, \n",
    "        do_print: bool = True\n",
    "    ) -> Optional[str]:\n",
    "    \n",
    "    if message.role == ChatRole.System:\n",
    "        message_str = message.content\n",
    "        \n",
    "    else:\n",
    "        match message.role:\n",
    "            case ChatRole.User:\n",
    "                role_name = USER_NAME\n",
    "            case ChatRole.Assistant:\n",
    "                role_name = ASSISTANT_NAME\n",
    "                \n",
    "        message_str = f\"[{role_name}] {message.content}\"\n",
    "    \n",
    "    if do_print:\n",
    "        print(message_str)\n",
    "        return\n",
    "    \n",
    "    return message_str\n",
    "\n",
    "def print_messages(\n",
    "        messages: list[ChatMessage], \n",
    "        do_print: bool = True\n",
    "    ) -> Optional[str]:\n",
    "    \n",
    "    message_str_list = []\n",
    "    for message in messages:\n",
    "        message_str = print_message(message, do_print=False)\n",
    "        message_str_list.append(message_str)\n",
    "        \n",
    "    s = \"\\n\\n\".join(message_str_list)\n",
    "        \n",
    "    if do_print:\n",
    "        print(s)\n",
    "        return \n",
    "    \n",
    "    return s\n",
    "    \n",
    "print_messages([\n",
    "    PROFILE,\n",
    "    UserMessage(\"Hello?\"),\n",
    "    AssistantMessage(\"How may I help you?\")\n",
    "])"
   ]
  },
  {
   "cell_type": "code",
   "execution_count": 4,
   "metadata": {},
   "outputs": [
    {
     "data": {
      "text/plain": [
       "'Isaac contacted Natia, a professional user growth manager in the field of GameFi. Isaac initiated the conversation by saying hello and Natia asked how she could assist him.'"
      ]
     },
     "execution_count": 4,
     "metadata": {},
     "output_type": "execute_result"
    }
   ],
   "source": [
    "def summarize_chat_history(messages: list[ChatMessage]) -> str:\n",
    "    \n",
    "    chat_history = print_messages(messages, do_print=False)\n",
    "    \n",
    "    prompt = (\n",
    "        \"{profile}\"\n",
    "        \"The following are your chat history with me: \"\n",
    "        \"{chat_history}\"\n",
    "        \"Summarize the above chat history by \"\n",
    "        \"extracting the key information. \"\n",
    "        \"Your summary is:\"\n",
    "    ).format(\n",
    "        profile=PROFILE,\n",
    "        chat_history=chat_history\n",
    "    )\n",
    "    \n",
    "    response = call_openai_chat(\n",
    "        messages=[\n",
    "            UserMessage(prompt)\n",
    "        ]\n",
    "    )\n",
    "    \n",
    "    return response\n",
    "\n",
    "summary = summarize_chat_history([\n",
    "    UserMessage(\"Hello?\"),\n",
    "    AssistantMessage(\"How may I help you?\")\n",
    "])\n",
    "\n",
    "summary"
   ]
  },
  {
   "cell_type": "markdown",
   "metadata": {},
   "source": [
    "## Qdrant"
   ]
  },
  {
   "cell_type": "code",
   "execution_count": 5,
   "metadata": {},
   "outputs": [],
   "source": [
    "def encode_text(text: str) -> list[float]:\n",
    "    \n",
    "    response = openai.Embedding.create(\n",
    "        model=\"text-embedding-ada-002\",\n",
    "        input=text\n",
    "    )\n",
    "    \n",
    "    embedding = response[\"data\"][0][\"embedding\"]\n",
    "    \n",
    "    return embedding"
   ]
  },
  {
   "cell_type": "code",
   "execution_count": 6,
   "metadata": {},
   "outputs": [],
   "source": [
    "CHAT_HISTORY_SUMMARY_COLLECTION_NAME = \"chat-history-summaries\"\n",
    "EMBEDDING_DIM = 1536\n",
    "\n",
    "class ChatHistoryManager(QdrantClient):\n",
    "    \n",
    "    def __init__(\n",
    "            self,\n",
    "            host: str = \"localhost\", \n",
    "            port: int = 6333,\n",
    "            min_n_messages: int = 8,\n",
    "            n_messages_to_summarize: int = 4,\n",
    "            max_n_relevant_summaries: int = 5\n",
    "        ):\n",
    "        \n",
    "        super().__init__(\n",
    "            host=host,\n",
    "            port=port\n",
    "        )\n",
    "        \n",
    "        self._collection_name = CHAT_HISTORY_SUMMARY_COLLECTION_NAME\n",
    "        \n",
    "        self.recreate_collection(\n",
    "            collection_name=self._collection_name,\n",
    "            vectors_config=VectorParams(\n",
    "                size=EMBEDDING_DIM,\n",
    "                distance=Distance.COSINE\n",
    "            )\n",
    "        )\n",
    "        \n",
    "        self._collection = self.get_collection(self._collection_name)\n",
    "        \n",
    "        self._min_n_messages = min_n_messages\n",
    "        self._n_messages_to_summarize = n_messages_to_summarize\n",
    "        self._message_buffer: list[ChatMessage] = []\n",
    "        self._max_n_relevant_summaries = max_n_relevant_summaries\n",
    "    \n",
    "    @property\n",
    "    def collections(self) -> list[str]:\n",
    "        \n",
    "        return list(map(\n",
    "            lambda collection: collection.name,\n",
    "            self.get_collections().collections\n",
    "        ))\n",
    "    \n",
    "    @property\n",
    "    def chat_history_messages(self) -> list[ChatMessage]:\n",
    "        \n",
    "        return self._message_buffer\n",
    "    \n",
    "    def insert_message(self, message: ChatMessage):\n",
    "        \n",
    "        if len(self._message_buffer) >= self._min_n_messages + self._n_messages_to_summarize:\n",
    "            \n",
    "            messages_to_summarize = self._message_buffer[:self._n_messages_to_summarize]\n",
    "            self._message_buffer = self._message_buffer[self._n_messages_to_summarize:]\n",
    "            \n",
    "            summary = summarize_chat_history(messages_to_summarize)\n",
    "            self.insert_summary(summary)\n",
    "            \n",
    "        self._message_buffer.append(message)\n",
    "    \n",
    "    def insert_summary(self, summary: str):\n",
    "        \n",
    "        self.upsert(\n",
    "            collection_name=self._collection_name,\n",
    "            points=[\n",
    "                PointStruct(\n",
    "                    id=uuid.uuid1().hex,\n",
    "                    payload={\n",
    "                        \"summary\": summary\n",
    "                    },\n",
    "                    vector=encode_text(summary)\n",
    "                )\n",
    "            ]\n",
    "        )\n",
    "        \n",
    "    def retrieve_relevant_summaries(\n",
    "            self, \n",
    "            query: str,\n",
    "            max_n_relevant_summaries: Optional[int] = None\n",
    "        ):\n",
    "        \n",
    "        query_embedding = encode_text(query)\n",
    "        \n",
    "        if max_n_relevant_summaries is None:\n",
    "            max_n_relevant_summaries = self._max_n_relevant_summaries\n",
    "        \n",
    "        points = self.search(\n",
    "            collection_name=self._collection_name,\n",
    "            query_vector=query_embedding,\n",
    "            with_payload=True,\n",
    "            limit=max_n_relevant_summaries\n",
    "        )\n",
    "        \n",
    "        summaries = list(map(\n",
    "            lambda point: point.payload[\"summary\"],\n",
    "            points\n",
    "        ))\n",
    "        \n",
    "        return summaries"
   ]
  },
  {
   "cell_type": "markdown",
   "metadata": {},
   "source": [
    "## Chatter"
   ]
  },
  {
   "cell_type": "code",
   "execution_count": 7,
   "metadata": {},
   "outputs": [],
   "source": [
    "class Chatter:\n",
    "    \n",
    "    def __init__(\n",
    "            self, \n",
    "            chat_history_manager: ChatHistoryManager\n",
    "        ) -> None:\n",
    "        \n",
    "        self._chat_history_manager = chat_history_manager\n",
    "        \n",
    "    def __call__(self, query: str):\n",
    "        \n",
    "        self._chat_history_manager.insert_message(\n",
    "            UserMessage(query)\n",
    "        )\n",
    "        \n",
    "        chat_history = print_messages(\n",
    "            messages=self._chat_history_manager.chat_history_messages,\n",
    "            do_print=False\n",
    "        )\n",
    "        \n",
    "        prompt = (\n",
    "            \"Your recent chat history with me is:\"\n",
    "            \"{chat_history}\"\n",
    "            \"The following summarries of previous conversations may also help:\"\n",
    "            \"{chat_history_summary} \"\n",
    "            # \"{query} \\n\"\n",
    "            \"Your response is:\"\n",
    "        ).format(\n",
    "            # user_name=USER_NAME,\n",
    "            chat_history=chat_history,\n",
    "            chat_history_summary=print_messages(\n",
    "                messages=self._chat_history_manager.retrieve_relevant_summaries(query),\n",
    "                do_print=False\n",
    "            ),\n",
    "            query=query\n",
    "        )\n",
    "        \n",
    "        response = call_openai_chat(\n",
    "            messages=[\n",
    "                PROFILE,\n",
    "                UserMessage(prompt)\n",
    "            ]\n",
    "        )\n",
    "        \n",
    "        self._chat_history_manager.insert_message(\n",
    "            AssistantMessage(response)\n",
    "        )\n",
    "        \n",
    "        return response\n",
    "    "
   ]
  },
  {
   "cell_type": "code",
   "execution_count": 8,
   "metadata": {},
   "outputs": [],
   "source": [
    "chatter = Chatter(\n",
    "    chat_history_manager=ChatHistoryManager()\n",
    ")"
   ]
  },
  {
   "cell_type": "code",
   "execution_count": 9,
   "metadata": {},
   "outputs": [
    {
     "data": {
      "text/plain": [
       "'[Assistant] Hi Isaac! How can I assist you today?'"
      ]
     },
     "execution_count": 9,
     "metadata": {},
     "output_type": "execute_result"
    }
   ],
   "source": [
    "chatter(\"Hi\")"
   ]
  },
  {
   "cell_type": "code",
   "execution_count": 10,
   "metadata": {},
   "outputs": [
    {
     "data": {
      "text/plain": [
       "'GameFi refers to the combination of blockchain technology and gaming, creating a new genre known as \"play-to-earn\" gaming. It allows players to earn real-world value through in-game activities, such as completing quests, trading virtual assets, or participating in tournaments. GameFi platforms often utilize non-fungible tokens (NFTs) and decentralized finance (DeFi) mechanisms to enable players to own, trade, and monetize their in-game assets. It has gained popularity due to its potential for players to earn income while enjoying their favorite games.'"
      ]
     },
     "execution_count": 10,
     "metadata": {},
     "output_type": "execute_result"
    }
   ],
   "source": [
    "chatter(\"What is GameFi\")"
   ]
  },
  {
   "cell_type": "code",
   "execution_count": 11,
   "metadata": {},
   "outputs": [
    {
     "data": {
      "text/plain": [
       "'[Natia] I apologize for any confusion. I am an AI assistant designed to provide information and assistance in the field of GameFi. My purpose is to help answer your questions and fulfill your requests related to GameFi. Is there anything specific you would like to know or any assistance you need?'"
      ]
     },
     "execution_count": 11,
     "metadata": {},
     "output_type": "execute_result"
    }
   ],
   "source": [
    "chatter(\"Who are you\")"
   ]
  },
  {
   "cell_type": "code",
   "execution_count": 12,
   "metadata": {},
   "outputs": [
    {
     "data": {
      "text/plain": [
       "'[Natia] Your name is Isaac. Is there anything else I can assist you with, Isaac?'"
      ]
     },
     "execution_count": 12,
     "metadata": {},
     "output_type": "execute_result"
    }
   ],
   "source": [
    "chatter(\"what is my name?\")"
   ]
  },
  {
   "cell_type": "code",
   "execution_count": 13,
   "metadata": {},
   "outputs": [
    {
     "data": {
      "text/plain": [
       "'[Natia] 感谢您的请求，Isaac。根据您的要求，我将为您提供一个关于Legend of Arcadia游戏内NFT售卖活动的策划提案。\\n\\n活动主题：探索与收集\\n- 我们将以探索与收集为主题，鼓励玩家在游戏中寻找珍贵的NFT道具和角色。\\n- 活动将提供多个任务和挑战，玩家需要完成这些任务来获得独特的NFT奖励。\\n\\n可能的合作方：\\n- 艺术家和设计师：与知名艺术家和设计师合作，创作独特的NFT道具和角色，增加其稀缺性和价值。\\n- NFT市场平台：与知名的NFT市场平台合作，提供一个安全可靠的交易平台，让玩家可以买卖他们的NFT道具和角色。\\n- 游戏媒体和社区：与游戏媒体和社区合作，通过宣传和推广活动，吸引更多玩家参与。\\n\\n合作形式：\\n- 艺术家和设计师合作：与艺术家和设计师签订合同，共同创作独特的NFT道具和角色。\\n- NFT市场平台合作：与NFT市场平台建立合作关系，确保玩家可以安全地买卖NFT道具和角色。\\n- 游戏媒体和社区合作：与游戏媒体和社区合作，通过合作推广活动，增加活动的曝光度和参与度。\\n\\n目标客户群体：\\n- 区块链游戏爱好者：吸引那些对区块链技术和游戏相结合的概念感兴趣的玩家。\\n- NFT收藏家：吸引那些对收集独特和稀缺NFT道具和角色感兴趣的玩家。\\n- 游戏社区成员：吸引已经在游戏社区中活跃的玩家，增加他们对游戏的参与度。\\n\\n希望这个提案能够满足您的需求。如果您有任何其他问题或需要进一步的帮助，请随时告诉我。'"
      ]
     },
     "execution_count": 13,
     "metadata": {},
     "output_type": "execute_result"
    }
   ],
   "source": [
    "chatter(\"你的项目Legend of Arcadia目前要做一系列游戏内NFT的售卖活动，你负责出一个proposal用于策划这一些活动，包括活动主题，可能的合作方，合作形式，目标客户群体；最好是crpyto nativa一些\")"
   ]
  },
  {
   "cell_type": "code",
   "execution_count": 14,
   "metadata": {},
   "outputs": [
    {
     "name": "stdout",
     "output_type": "stream",
     "text": [
      "I understand that you are looking for assistance in creating a proposal for a series of in-game NFT sales activities for your project, Legend of Arcadia. To plan these activities, it would be beneficial to consider the following elements:\n",
      "\n",
      "1. Activity Theme: Determine the overarching theme or concept for the NFT sales activities. This could be related to the game's storyline, characters, or unique features.\n",
      "\n",
      "2. Potential Partnerships: Identify potential partners or collaborators who can contribute to the success of the NFT sales activities. These could include other game developers, blockchain platforms, or crypto influencers.\n",
      "\n",
      "3. Collaboration Format: Define the specific ways in which you plan to collaborate with your partners. This could involve joint marketing campaigns, cross-promotions, or shared revenue models.\n",
      "\n",
      "4. Target Customer Segments: Identify the specific customer segments you want to target with your NFT sales activities. Consider factors such as demographics, gaming preferences, and crypto-native audiences.\n",
      "\n",
      "5. Crypto Integration: Explore ways to integrate crypto-native features into the NFT sales activities. This could include accepting cryptocurrency payments, leveraging blockchain technology for asset ownership, or incorporating decentralized finance (DeFi) elements.\n",
      "\n",
      "By considering these aspects, you can create a comprehensive proposal for your in-game NFT sales activities. It's important to tailor the proposal to the unique characteristics of your project, Legend of Arcadia, and align it with your overall business goals. If you have any further questions or need more specific guidance, feel free to let me know!\n"
     ]
    }
   ],
   "source": [
    "s = \"I understand that you are looking for assistance in creating a proposal for a series of in-game NFT sales activities for your project, Legend of Arcadia. To plan these activities, it would be beneficial to consider the following elements:\\n\\n1. Activity Theme: Determine the overarching theme or concept for the NFT sales activities. This could be related to the game's storyline, characters, or unique features.\\n\\n2. Potential Partnerships: Identify potential partners or collaborators who can contribute to the success of the NFT sales activities. These could include other game developers, blockchain platforms, or crypto influencers.\\n\\n3. Collaboration Format: Define the specific ways in which you plan to collaborate with your partners. This could involve joint marketing campaigns, cross-promotions, or shared revenue models.\\n\\n4. Target Customer Segments: Identify the specific customer segments you want to target with your NFT sales activities. Consider factors such as demographics, gaming preferences, and crypto-native audiences.\\n\\n5. Crypto Integration: Explore ways to integrate crypto-native features into the NFT sales activities. This could include accepting cryptocurrency payments, leveraging blockchain technology for asset ownership, or incorporating decentralized finance (DeFi) elements.\\n\\nBy considering these aspects, you can create a comprehensive proposal for your in-game NFT sales activities. It's important to tailor the proposal to the unique characteristics of your project, Legend of Arcadia, and align it with your overall business goals. If you have any further questions or need more specific guidance, feel free to let me know!\"\n",
    "\n",
    "print(s)"
   ]
  },
  {
   "cell_type": "code",
   "execution_count": 15,
   "metadata": {},
   "outputs": [
    {
     "name": "stdout",
     "output_type": "stream",
     "text": [
      "[Natia] [Natia] Thank you for your request, Isaac. Based on your request, I will provide you with a proposal for a series of in-game NFT sales activities for Legend of Arcadia.\n",
      "\n",
      "Activity Theme: Exploration and Collection\n",
      "- We will focus on the theme of exploration and collection, encouraging players to search for rare NFT items and characters within the game.\n",
      "- The activity will offer multiple quests and challenges, where players need to complete these tasks to earn unique NFT rewards.\n",
      "\n",
      "Possible Collaborators:\n",
      "- Artists and Designers: Collaborate with renowned artists and designers to create unique NFT items and characters, increasing their scarcity and value.\n",
      "- NFT Marketplace Platforms: Partner with well-known NFT marketplace platforms to provide a secure and reliable trading platform for players to buy and sell their NFT items and characters.\n",
      "- Game Media and Communities: Collaborate with game media and communities to promote and attract more players to participate through publicity and marketing activities.\n",
      "\n",
      "Collaboration Formats:\n",
      "- Collaboration with Artists and Designers: Sign contracts with artists and designers to co-create unique NFT items and characters.\n",
      "- Collaboration with NFT Marketplace Platforms: Establish partnerships with NFT marketplace platforms to ensure players can safely trade their NFT items and characters.\n",
      "- Collaboration with Game Media and Communities: Collaborate with game media and communities to increase the exposure and engagement of the activities through cooperative promotional activities.\n",
      "\n",
      "Target Audience:\n",
      "- Blockchain Gaming Enthusiasts: Attract players who are interested in the concept of combining blockchain technology and gaming.\n",
      "- NFT Collectors: Appeal to players who are interested in collecting unique and scarce NFT items and characters.\n",
      "- Game Community Members: Engage players who are already active within the game community and increase their participation in the game.\n",
      "\n",
      "I hope this proposal meets your requirements. If you have any further questions or need additional assistance, please let me know.\n"
     ]
    }
   ],
   "source": [
    "print(chatter(\"Please list more details\"))"
   ]
  },
  {
   "cell_type": "code",
   "execution_count": null,
   "metadata": {},
   "outputs": [],
   "source": []
  }
 ],
 "metadata": {
  "kernelspec": {
   "display_name": "aiknow",
   "language": "python",
   "name": "python3"
  },
  "language_info": {
   "codemirror_mode": {
    "name": "ipython",
    "version": 3
   },
   "file_extension": ".py",
   "mimetype": "text/x-python",
   "name": "python",
   "nbconvert_exporter": "python",
   "pygments_lexer": "ipython3",
   "version": "3.11.3"
  },
  "orig_nbformat": 4
 },
 "nbformat": 4,
 "nbformat_minor": 2
}
